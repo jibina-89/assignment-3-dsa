{
  "nbformat": 4,
  "nbformat_minor": 0,
  "metadata": {
    "colab": {
      "private_outputs": true,
      "provenance": [],
      "authorship_tag": "ABX9TyPMiPlQgyT2RShqhaeE1Iwz",
      "include_colab_link": true
    },
    "kernelspec": {
      "name": "python3",
      "display_name": "Python 3"
    },
    "language_info": {
      "name": "python"
    }
  },
  "cells": [
    {
      "cell_type": "markdown",
      "metadata": {
        "id": "view-in-github",
        "colab_type": "text"
      },
      "source": [
        "<a href=\"https://colab.research.google.com/github/jibina-89/assignment-3-dsa/blob/main/intermediate_assessment.ipynb\" target=\"_parent\"><img src=\"https://colab.research.google.com/assets/colab-badge.svg\" alt=\"Open In Colab\"/></a>"
      ]
    },
    {
      "cell_type": "code",
      "execution_count": null,
      "metadata": {
        "id": "im8wSPaPPY3L"
      },
      "outputs": [],
      "source": [
        "from sklearn.datasets import fetch_california_housing\n",
        "import pandas as pd\n",
        "housing = fetch_california_housing(as_frame=True)\n",
        "df = housing.frame\n",
        "df.to_csv('california_housing.csv', index=False)\n",
        "df = pd.read_csv('california_housing.csv')\n",
        "print(df.head())"
      ]
    },
    {
      "cell_type": "code",
      "source": [
        "\n",
        "from sklearn.datasets import fetch_california_housing\n",
        "import pandas as pd\n",
        "housing = fetch_california_housing(as_frame=True)\n",
        "df = housing.frame\n",
        "print(df.head())\n",
        "print(df.dtypes)\n",
        "print(df.isnull().sum())\n",
        "print(df.describe())"
      ],
      "metadata": {
        "id": "i_-Sv9Z6P6cV"
      },
      "execution_count": null,
      "outputs": []
    },
    {
      "cell_type": "code",
      "source": [
        "df = df.drop_duplicates()\n",
        "print(\"Missing values before filling:\")\n",
        "print(df.isnull().sum())\n",
        "df = df.fillna(df.mean(numeric_only=True))\n",
        "df['PricePerRoom'] = df['MedHouseVal'] / df['AveRooms']\n",
        "df['HighPopulationArea'] = df['Population'].apply(lambda x: 1 if x > 500 else 0)\n",
        "df['IncomeCategory'] = pd.cut(df['MedInc'],bins=5,labels=['Very Low', 'Low', 'Medium', 'High', 'Very High'])\n",
        "print(\"\\nData after cleaning steps 6-11:\")\n",
        "print(df.head())"
      ],
      "metadata": {
        "id": "_f68SP0iRRDT"
      },
      "execution_count": null,
      "outputs": []
    },
    {
      "cell_type": "code",
      "source": [
        "import matplotlib.pyplot as plt\n",
        "import seaborn as sns\n",
        "plt.figure(figsize=(8,6))\n",
        "sns.histplot(df['MedHouseVal'], kde=True)\n",
        "plt.title('Distribution of Median House Value')\n",
        "plt.xlabel('Median House Value')\n",
        "plt.ylabel('Frequency')\n",
        "plt.show()\n",
        "plt.figure(figsize=(10,8))\n",
        "scatter = plt.scatter(df['Longitude'],df['Latitude'],c=df['MedHouseVal'],cmap='viridis', alpha=0.5)\n",
        "plt.colorbar(scatter, label='Median House Value')\n",
        "plt.title('California Housing Prices')\n",
        "plt.xlabel('Longitude')\n",
        "plt.ylabel('Latitude')\n",
        "plt.show()"
      ],
      "metadata": {
        "id": "RpLYrDWUUVJm"
      },
      "execution_count": null,
      "outputs": []
    }
  ]
}