{
 "cells": [
  {
   "cell_type": "markdown",
   "id": "d2328cad",
   "metadata": {},
   "source": [
    "# Python Basics Assignment\n",
    "\n",
    "This notebook contains 20 basic Python questions.  \n",
    "Each question carries **1 mark**. Write your answer in the cell provided.  \n"
   ]
  },
  {
   "cell_type": "markdown",
   "id": "cb537954",
   "metadata": {},
   "source": [
    "### Question 1\n",
    "Write a function that returns the square of a number."
   ]
  },
  {
   "cell_type": "code",
   "execution_count": 5,
   "id": "cf213ba2",
   "metadata": {},
   "outputs": [
    {
     "name": "stdin",
     "output_type": "stream",
     "text": [
      "Enter a number:  4\n"
     ]
    },
    {
     "name": "stdout",
     "output_type": "stream",
     "text": [
      "The square of 4.0 is 16.0\n"
     ]
    }
   ],
   "source": [
    "\n",
    "def square(number):\n",
    "    return number ** 2\n",
    "user_input = float(input(\"Enter a number: \"))\n",
    "result = square(user_input)\n",
    "print(f\"The square of {user_input} is {result}\")\n",
    "\n",
    "  "
   ]
  },
  {
   "cell_type": "markdown",
   "id": "4eaff430",
   "metadata": {},
   "source": [
    "### Question 2\n",
    "Write a function that checks whether a number is even."
   ]
  },
  {
   "cell_type": "code",
   "execution_count": 10,
   "id": "81934cf7",
   "metadata": {},
   "outputs": [
    {
     "name": "stdout",
     "output_type": "stream",
     "text": [
      "True\n",
      "False\n"
     ]
    }
   ],
   "source": [
    "def is_even(number):\n",
    "    if number % 2 == 0:\n",
    "        return True\n",
    "    else:\n",
    "        return False\n",
    "print(is_even(4))\n",
    "print(is_even(7))\n"
   ]
  },
  {
   "cell_type": "markdown",
   "id": "5f061e50",
   "metadata": {},
   "source": [
    "### Question 3\n",
    "Write a function to return the maximum of two numbers."
   ]
  },
  {
   "cell_type": "code",
   "execution_count": 1,
   "id": "44e2a596",
   "metadata": {},
   "outputs": [
    {
     "name": "stdout",
     "output_type": "stream",
     "text": [
      "The maximum is: 20\n"
     ]
    }
   ],
   "source": [
    "def maximum(a, b):\n",
    "    if a > b:\n",
    "        return a\n",
    "    else:\n",
    "        return b\n",
    "num1 = 10\n",
    "num2 = 20\n",
    "print(\"The maximum is:\", maximum(num1, num2))"
   ]
  },
  {
   "cell_type": "markdown",
   "id": "7513ca91",
   "metadata": {},
   "source": [
    "### Question 4\n",
    "Write a function to return the factorial of a number."
   ]
  },
  {
   "cell_type": "code",
   "execution_count": 2,
   "id": "6617842f",
   "metadata": {},
   "outputs": [
    {
     "name": "stdout",
     "output_type": "stream",
     "text": [
      "The factorial of 5 is: 120\n"
     ]
    }
   ],
   "source": [
    "def factorial(n):\n",
    "    result = 1\n",
    "    for i in range(1, n + 1):\n",
    "        result *= i\n",
    "    return result\n",
    "num = 5\n",
    "print(\"The factorial of\", num, \"is:\", factorial(num))"
   ]
  },
  {
   "cell_type": "markdown",
   "id": "9b942098",
   "metadata": {},
   "source": [
    "### Question 5\n",
    "Write a function to reverse a string."
   ]
  },
  {
   "cell_type": "code",
   "execution_count": 3,
   "id": "d606b194",
   "metadata": {},
   "outputs": [
    {
     "name": "stdout",
     "output_type": "stream",
     "text": [
      "Reversed string is: olleh\n"
     ]
    }
   ],
   "source": [
    "def reverse_string(text):\n",
    "    return text[::-1]\n",
    "\n",
    "# Example usage\n",
    "input_str = \"hello\"\n",
    "print(\"Reversed string is:\", reverse_string(input_str))\n"
   ]
  },
  {
   "cell_type": "markdown",
   "id": "1abd915b",
   "metadata": {},
   "source": [
    "### Question 6\n",
    "Write a function to check if a string is a palindrome."
   ]
  },
  {
   "cell_type": "code",
   "execution_count": 4,
   "id": "2b868fb3",
   "metadata": {},
   "outputs": [
    {
     "name": "stdout",
     "output_type": "stream",
     "text": [
      "\"madam\" is a palindrome.\n"
     ]
    }
   ],
   "source": [
    "def is_palindrome(text):\n",
    "    cleaned_text = text.replace(\" \", \"\").lower()\n",
    "    return cleaned_text == cleaned_text[::-1]\n",
    "input_str = \"madam\"\n",
    "if is_palindrome(input_str):\n",
    "    print(f'\"{input_str}\" is a palindrome.')\n",
    "else:\n",
    "    print(f'\"{input_str}\" is not a palindrome.')"
   ]
  },
  {
   "cell_type": "markdown",
   "id": "5f2f3791",
   "metadata": {},
   "source": [
    "### Question 7\n",
    "Write a function to count vowels in a string."
   ]
  },
  {
   "cell_type": "code",
   "execution_count": 5,
   "id": "73fefa50",
   "metadata": {},
   "outputs": [
    {
     "name": "stdout",
     "output_type": "stream",
     "text": [
      "Number of vowels: 3\n"
     ]
    }
   ],
   "source": [
    "def count_vowels(text):\n",
    "    vowels = \"aeiouAEIOU\"\n",
    "    count = 0\n",
    "    for char in text:\n",
    "        if char in vowels:\n",
    "            count += 1\n",
    "    return count\n",
    "input_str = \"Hello World\"\n",
    "print(\"Number of vowels:\", count_vowels(input_str))"
   ]
  },
  {
   "cell_type": "markdown",
   "id": "0d3a9996",
   "metadata": {},
   "source": [
    "### Question 8\n",
    "Write a function that returns the sum of a list."
   ]
  },
  {
   "cell_type": "code",
   "execution_count": 6,
   "id": "ab6afc66",
   "metadata": {},
   "outputs": [
    {
     "name": "stdout",
     "output_type": "stream",
     "text": [
      "The sum of the list is: 100\n"
     ]
    }
   ],
   "source": [
    "def sum_list(numbers):\n",
    "    total = 0\n",
    "    for num in numbers:\n",
    "        total += num\n",
    "    return total\n",
    "my_list = [10, 20, 30, 40]\n",
    "print(\"The sum of the list is:\", sum_list(my_list))"
   ]
  },
  {
   "cell_type": "markdown",
   "id": "f6682500",
   "metadata": {},
   "source": [
    "### Question 9\n",
    "Write a function to find the smallest number in a list."
   ]
  },
  {
   "cell_type": "code",
   "execution_count": 7,
   "id": "6798a641",
   "metadata": {},
   "outputs": [
    {
     "name": "stdout",
     "output_type": "stream",
     "text": [
      "The smallest number in the list is: 5\n"
     ]
    }
   ],
   "source": [
    "def find_smallest(numbers):\n",
    "    smallest = numbers[0] \n",
    "    for num in numbers:\n",
    "        if num < smallest:\n",
    "            smallest = num \n",
    "    return smallest\n",
    "my_list = [45, 10, 80, 25, 5]\n",
    "print(\"The smallest number in the list is:\", find_smallest(my_list))"
   ]
  },
  {
   "cell_type": "markdown",
   "id": "fb11e683",
   "metadata": {},
   "source": [
    "### Question 10\n",
    "Write a function to remove duplicates from a list."
   ]
  },
  {
   "cell_type": "code",
   "execution_count": 8,
   "id": "7c53f88c",
   "metadata": {},
   "outputs": [
    {
     "name": "stdout",
     "output_type": "stream",
     "text": [
      "List after removing duplicates: [10, 20, 30, 40]\n"
     ]
    }
   ],
   "source": [
    "def remove_duplicates(numbers):\n",
    "    unique_numbers = [] \n",
    "    for num in numbers:\n",
    "        if num not in unique_numbers:\n",
    "            unique_numbers.append(num) \n",
    "    return unique_numbers\n",
    "my_list = [10, 20, 30, 20, 10, 40, 30]\n",
    "print(\"List after removing duplicates:\", remove_duplicates(my_list))"
   ]
  },
  {
   "cell_type": "markdown",
   "id": "9c380a5c",
   "metadata": {},
   "source": [
    "### Question 11\n",
    "Write a function to sort a list in ascending order."
   ]
  },
  {
   "cell_type": "code",
   "execution_count": 9,
   "id": "8e43832f",
   "metadata": {},
   "outputs": [
    {
     "name": "stdout",
     "output_type": "stream",
     "text": [
      "Sorted list: [10, 20, 30, 40, 50]\n"
     ]
    }
   ],
   "source": [
    "def sort_list(numbers):\n",
    "    for i in range(len(numbers)):\n",
    "        for j in range(i + 1, len(numbers)):\n",
    "            if numbers[i] > numbers[j]:\n",
    "                numbers[i], numbers[j] = numbers[j], numbers[i]\n",
    "    return numbers\n",
    "my_list = [40, 10, 30, 20, 50]\n",
    "print(\"Sorted list:\", sort_list(my_list))"
   ]
  },
  {
   "cell_type": "markdown",
   "id": "1270c91c",
   "metadata": {},
   "source": [
    "### Question 12\n",
    "Write a function that returns the length of a string."
   ]
  },
  {
   "cell_type": "code",
   "execution_count": 10,
   "id": "87f35472",
   "metadata": {},
   "outputs": [
    {
     "name": "stdout",
     "output_type": "stream",
     "text": [
      "The length of the string is: 13\n"
     ]
    }
   ],
   "source": [
    "def string_length(text):\n",
    "    return len(text)\n",
    "input_str = \"Hello, World!\"\n",
    "print(\"The length of the string is:\", string_length(input_str))"
   ]
  },
  {
   "cell_type": "markdown",
   "id": "9a8e3d28",
   "metadata": {},
   "source": [
    "### Question 13\n",
    "Write a function to count words in a sentence."
   ]
  },
  {
   "cell_type": "code",
   "execution_count": 11,
   "id": "e6f996ef",
   "metadata": {},
   "outputs": [
    {
     "name": "stdout",
     "output_type": "stream",
     "text": [
      "The number of words in the sentence is: 6\n"
     ]
    }
   ],
   "source": [
    "def count_words(sentence):\n",
    "    words = sentence.split()\n",
    "    return len(words)  \n",
    "input_sentence = \"Hello, how are you doing today?\"\n",
    "print(\"The number of words in the sentence is:\", count_words(input_sentence))"
   ]
  },
  {
   "cell_type": "markdown",
   "id": "430c2e4a",
   "metadata": {},
   "source": [
    "### Question 14\n",
    "Write a function to convert Celsius to Fahrenheit."
   ]
  },
  {
   "cell_type": "code",
   "execution_count": 12,
   "id": "b710b0bd",
   "metadata": {},
   "outputs": [
    {
     "name": "stdout",
     "output_type": "stream",
     "text": [
      "25°C is equal to 77.0°F\n"
     ]
    }
   ],
   "source": [
    "def celsius_to_fahrenheit(celsius):\n",
    "    fahrenheit = (celsius * 9/5) + 32\n",
    "    return fahrenheit\n",
    "celsius_temp = 25\n",
    "print(f\"{celsius_temp}°C is equal to {celsius_to_fahrenheit(celsius_temp)}°F\")"
   ]
  },
  {
   "cell_type": "markdown",
   "id": "acefe5e3",
   "metadata": {},
   "source": [
    "### Question 15\n",
    "Write a function to check if a number is prime."
   ]
  },
  {
   "cell_type": "code",
   "execution_count": 13,
   "id": "b700abae",
   "metadata": {},
   "outputs": [
    {
     "name": "stdout",
     "output_type": "stream",
     "text": [
      "29 is a prime number.\n"
     ]
    }
   ],
   "source": [
    "def is_prime(number):\n",
    "    if number <= 1:\n",
    "        return False \n",
    "    for i in range(2, int(number ** 0.5) + 1):\n",
    "        if number % i == 0:\n",
    "            return False  \n",
    "    return True\n",
    "num = 29\n",
    "if is_prime(num):\n",
    "    print(f\"{num} is a prime number.\")\n",
    "else:\n",
    "    print(f\"{num} is not a prime number.\")"
   ]
  },
  {
   "cell_type": "markdown",
   "id": "b63452cb",
   "metadata": {},
   "source": [
    "### Question 16\n",
    "Write a function to return all even numbers in a list."
   ]
  },
  {
   "cell_type": "code",
   "execution_count": 16,
   "id": "9d1fc968",
   "metadata": {},
   "outputs": [
    {
     "name": "stdout",
     "output_type": "stream",
     "text": [
      "Even numbers in the list: [2, 4, 6, 8, 10]\n"
     ]
    }
   ],
   "source": [
    "def get_even_numbers(numbers):\n",
    "    even_numbers = []\n",
    "    for num in numbers:\n",
    "        if num % 2 == 0:\n",
    "            even_numbers.append(num) \n",
    "    return even_numbers\n",
    "\n",
    "my_list = [1, 2, 3, 4, 5, 6, 7, 8, 9, 10]\n",
    "print(\"Even numbers in the list:\", get_even_numbers(my_list))"
   ]
  },
  {
   "cell_type": "markdown",
   "id": "aca524d9",
   "metadata": {},
   "source": [
    "### Question 17\n",
    "Write a function to return the nth Fibonacci number."
   ]
  },
  {
   "cell_type": "code",
   "execution_count": 17,
   "id": "97dc4e87",
   "metadata": {},
   "outputs": [
    {
     "name": "stdout",
     "output_type": "stream",
     "text": [
      "The 10th Fibonacci number is: 34\n"
     ]
    }
   ],
   "source": [
    "def fibonacci(n):\n",
    "    if n <= 0:\n",
    "        return \"Input must be a positive integer\"\n",
    "    elif n == 1:\n",
    "        return 0\n",
    "    elif n == 2:\n",
    "        return 1\n",
    "    else:\n",
    "        a, b = 0, 1\n",
    "        for i in range(2, n):\n",
    "            a, b = b, a + b \n",
    "        return b  \n",
    "n = 10\n",
    "print(f\"The {n}th Fibonacci number is:\", fibonacci(n))"
   ]
  },
  {
   "cell_type": "markdown",
   "id": "29c847dc",
   "metadata": {},
   "source": [
    "### Question 18\n",
    "Write a function to calculate the average of a list."
   ]
  },
  {
   "cell_type": "code",
   "execution_count": 18,
   "id": "9adc9fd2",
   "metadata": {},
   "outputs": [
    {
     "name": "stdout",
     "output_type": "stream",
     "text": [
      "The average of the list is: 30.0\n"
     ]
    }
   ],
   "source": [
    "def calculate_average(numbers):\n",
    "    if len(numbers) == 0:\n",
    "        return \"The list is empty, cannot calculate average.\"\n",
    "    total = sum(numbers) \n",
    "    return total / len(numbers) \n",
    "my_list = [10, 20, 30, 40, 50]\n",
    "print(\"The average of the list is:\", calculate_average(my_list))"
   ]
  },
  {
   "cell_type": "markdown",
   "id": "420240fb",
   "metadata": {},
   "source": [
    "### Question 19\n",
    "Write a function that returns a dictionary of character counts."
   ]
  },
  {
   "cell_type": "code",
   "execution_count": 19,
   "id": "95cafc54",
   "metadata": {},
   "outputs": [
    {
     "name": "stdout",
     "output_type": "stream",
     "text": [
      "Character counts: {}\n"
     ]
    }
   ],
   "source": [
    "def char_count(s):\n",
    "    count_dict = {}  \n",
    "    for char in s:  \n",
    "        if char in count_dict:\n",
    "            count_dict[char] += 1 \n",
    "            count_dict[char] = 1 \n",
    "    return count_dict\n",
    "input_string = \"hello world\"\n",
    "print(\"Character counts:\", char_count(input_string))"
   ]
  },
  {
   "cell_type": "markdown",
   "id": "17629a07",
   "metadata": {},
   "source": [
    "### Question 20\n",
    "Write a function that returns True if all list elements are unique."
   ]
  },
  {
   "cell_type": "code",
   "execution_count": 20,
   "id": "fe4f8820",
   "metadata": {},
   "outputs": [
    {
     "name": "stdout",
     "output_type": "stream",
     "text": [
      "Are all elements unique? True\n",
      "Are all elements unique? False\n"
     ]
    }
   ],
   "source": [
    "def are_all_elements_unique(lst):\n",
    "    return len(lst) == len(set(lst))\n",
    "\n",
    "my_list = [1, 2, 3, 4, 5]\n",
    "print(\"Are all elements unique?\", are_all_elements_unique(my_list))\n",
    "\n",
    "my_list_with_duplicates = [1, 2, 2, 4, 5]\n",
    "print(\"Are all elements unique?\", are_all_elements_unique(my_list_with_duplicates))"
   ]
  },
  {
   "cell_type": "code",
   "execution_count": null,
   "id": "8be1bfb2-18ae-4636-9c62-dd8b3ae0cdc3",
   "metadata": {},
   "outputs": [],
   "source": []
  }
 ],
 "metadata": {
  "kernelspec": {
   "display_name": "anaconda-panel-2023.05-py310",
   "language": "python",
   "name": "conda-env-anaconda-panel-2023.05-py310-py"
  },
  "language_info": {
   "codemirror_mode": {
    "name": "ipython",
    "version": 3
   },
   "file_extension": ".py",
   "mimetype": "text/x-python",
   "name": "python",
   "nbconvert_exporter": "python",
   "pygments_lexer": "ipython3",
   "version": "3.11.5"
  }
 },
 "nbformat": 4,
 "nbformat_minor": 5
}
